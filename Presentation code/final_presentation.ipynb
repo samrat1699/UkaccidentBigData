{
 "cells": [
  {
   "cell_type": "markdown",
   "id": "0ca6578a-ffed-436e-9831-7bfa3be7d281",
   "metadata": {},
   "source": [
    "# **Road Safety Analysis with sqlite3 & python**"
   ]
  },
  {
   "cell_type": "markdown",
   "id": "0e10df2e-70b7-4c77-a15e-304c83462ec5",
   "metadata": {
    "tags": []
   },
   "source": [
    "#### *Import required libraaries*"
   ]
  },
  {
   "cell_type": "code",
   "execution_count": 33,
   "id": "9cd97939-9f9c-4d23-a8cc-3624567375ad",
   "metadata": {},
   "outputs": [],
   "source": [
    "# Required libraries\n",
    "import pandas as pd\n",
    "import sqlite3"
   ]
  },
  {
   "cell_type": "markdown",
   "id": "a823bfe4-04f3-483b-8e74-88c97763c5bd",
   "metadata": {
    "tags": []
   },
   "source": [
    "#### *Connection the database*"
   ]
  },
  {
   "cell_type": "code",
   "execution_count": 34,
   "id": "3b6edcd6-d17e-485b-92f5-7b3479b74ee6",
   "metadata": {},
   "outputs": [],
   "source": [
    "# Connect to the sqlite database\n",
    "conn = sqlite3.connect('accident_data_v1.0.0_2023.db')\n",
    "cursor = conn.cursor()"
   ]
  },
  {
   "cell_type": "markdown",
   "id": "91db0ed9-0b60-4305-a4dc-ae76f92740f2",
   "metadata": {
    "tags": []
   },
   "source": [
    "#### *Print the columns name each table of the sqlite3 database*"
   ]
  },
  {
   "cell_type": "code",
   "execution_count": 35,
   "id": "bb597a30-a987-4ca7-adbc-a0ce7a232d45",
   "metadata": {},
   "outputs": [
    {
     "name": "stdout",
     "output_type": "stream",
     "text": [
      "Column names for accident table:\n",
      "['accident_index', 'accident_year', 'accident_reference', 'location_easting_osgr', 'location_northing_osgr', 'longitude', 'latitude', 'police_force', 'accident_severity', 'number_of_vehicles', 'number_of_casualties', 'date', 'day_of_week', 'time', 'local_authority_district', 'local_authority_ons_district', 'local_authority_highway', 'first_road_class', 'first_road_number', 'road_type', 'speed_limit', 'junction_detail', 'junction_control', 'second_road_class', 'second_road_number', 'pedestrian_crossing_human_control', 'pedestrian_crossing_physical_facilities', 'light_conditions', 'weather_conditions', 'road_surface_conditions', 'special_conditions_at_site', 'carriageway_hazards', 'urban_or_rural_area', 'did_police_officer_attend_scene_of_accident', 'trunk_road_flag', 'lsoa_of_accident_location']\n",
      "\n",
      "Column names for vehicle table:\n",
      "['vehicle_index', 'accident_index', 'accident_year', 'accident_reference', 'vehicle_reference', 'vehicle_type', 'towing_and_articulation', 'vehicle_manoeuvre', 'vehicle_direction_from', 'vehicle_direction_to', 'vehicle_location_restricted_lane', 'junction_location', 'skidding_and_overturning', 'hit_object_in_carriageway', 'vehicle_leaving_carriageway', 'hit_object_off_carriageway', 'first_point_of_impact', 'vehicle_left_hand_drive', 'journey_purpose_of_driver', 'sex_of_driver', 'age_of_driver', 'age_band_of_driver', 'engine_capacity_cc', 'propulsion_code', 'age_of_vehicle', 'generic_make_model', 'driver_imd_decile', 'driver_home_area_type']\n",
      "\n",
      "Column names for casualty table:\n",
      "['casualty_index', 'accident_index', 'accident_year', 'accident_reference', 'vehicle_reference', 'casualty_reference', 'casualty_class', 'sex_of_casualty', 'age_of_casualty', 'age_band_of_casualty', 'casualty_severity', 'pedestrian_location', 'pedestrian_movement', 'car_passenger', 'bus_or_coach_passenger', 'pedestrian_road_maintenance_worker', 'casualty_type', 'casualty_home_area_type', 'casualty_imd_decile']\n",
      "\n",
      "Column names for lsoa table:\n",
      "['objectid', 'lsoa01cd', 'lsoa01nm', 'lsoa01nmw', 'shape__area', 'shape__length', 'globalid']\n",
      "\n"
     ]
    }
   ],
   "source": [
    "# Dictionary to store column names for each table\n",
    "table_columns = {}\n",
    "\n",
    "# Define tables for which we want to retrieve column names\n",
    "tables = ['accident', 'vehicle', 'casualty', 'lsoa']\n",
    "\n",
    "# Loop through each table and fetch column names\n",
    "for table in tables:\n",
    "    # Execute PRAGMA query to fetch column information\n",
    "    cursor.execute(f\"PRAGMA table_info({table})\")\n",
    "    # Fetch all column information\n",
    "    col_info = cursor.fetchall()\n",
    "    # Extract column names and store in a list\n",
    "    column_names = [col[1] for col in col_info]\n",
    "    # Store column names in the dictionary\n",
    "    table_columns[table] = column_names\n",
    "\n",
    "# # Print the column names for each table\n",
    "for table, columns in table_columns.items():\n",
    "    print(f\"Column names for {table} table:\")\n",
    "    print(columns)\n",
    "    print()"
   ]
  },
  {
   "cell_type": "markdown",
   "id": "8ef1850a-351a-453e-9091-9caa3d839603",
   "metadata": {
    "tags": []
   },
   "source": [
    "#### *Print length of the each table*"
   ]
  },
  {
   "cell_type": "code",
   "execution_count": 36,
   "id": "1780ec79-4f81-4430-9ab0-4c6557fefb46",
   "metadata": {},
   "outputs": [
    {
     "name": "stdout",
     "output_type": "stream",
     "text": [
      "Length of accident table number of rows: 461352\n",
      "Length of vehicle table number of rows: 849091\n",
      "Length of casualty table number of rows: 600332\n",
      "Length of lsoa table number of rows: 34378\n"
     ]
    }
   ],
   "source": [
    "# Define tables for which we want to find the length\n",
    "tables = ['accident', 'vehicle', 'casualty', 'lsoa']\n",
    "\n",
    "# Dictionary to store the length of each table\n",
    "table_lengths = {}\n",
    "\n",
    "# Loop through each table and fetch the count of rows\n",
    "for table in tables:\n",
    "    # Execute SQL query to count the number of rows in the table\n",
    "    cursor.execute(f\"SELECT COUNT(*) FROM {table}\")\n",
    "    # Fetch the count\n",
    "    count = cursor.fetchone()[0]\n",
    "    # Store the count in the dictionary\n",
    "    table_lengths[table] = count\n",
    "\n",
    "# Print the length of each table\n",
    "for table, length in table_lengths.items():\n",
    "    print(f\"Length of {table} table number of rows: {length}\")\n",
    "    "
   ]
  },
  {
   "cell_type": "markdown",
   "id": "41901c94-85cb-438e-9452-9f58a65afbf5",
   "metadata": {},
   "source": []
  },
  {
   "cell_type": "markdown",
   "id": "e70dc7e3-fdee-40df-a0a0-e851432f7368",
   "metadata": {
    "tags": []
   },
   "source": [
    "### *I. The age of the Oldest driver/rider in the casualty table*"
   ]
  },
  {
   "cell_type": "code",
   "execution_count": 37,
   "id": "535eed82-0c11-47b2-ade4-75e77d950a0a",
   "metadata": {},
   "outputs": [
    {
     "name": "stdout",
     "output_type": "stream",
     "text": [
      "Age of the oldest driver/rider in the casualty table:102\n"
     ]
    }
   ],
   "source": [
    "#execute the sql follwing command\n",
    "cursor.execute(\"SELECT MAX(age_of_casualty) AS oldest_age FROM casualty\")\n",
    "oldest_age_result = cursor.fetchone()[0]\n",
    "\n",
    "print(f\"Age of the oldest driver/rider in the casualty table:{oldest_age_result}\")"
   ]
  },
  {
   "cell_type": "markdown",
   "id": "956a3850-167f-4fe4-9e05-628a339f3bcc",
   "metadata": {},
   "source": []
  },
  {
   "cell_type": "markdown",
   "id": "8ceecef0-0772-4f70-a2b0-61ca0309e134",
   "metadata": {
    "tags": []
   },
   "source": [
    "### *II. The total number of vehicle_type=19 vehicles in the vehicle table*"
   ]
  },
  {
   "cell_type": "code",
   "execution_count": 38,
   "id": "fcfce7c5-ae81-4299-95b9-101681551368",
   "metadata": {},
   "outputs": [
    {
     "name": "stdout",
     "output_type": "stream",
     "text": [
      "Total number of vehicle_type=19 vehicles in the vehicle table: 47458\n"
     ]
    }
   ],
   "source": [
    "# Execute the SQL command to get the total number of vehicle_type=19 vehicles\n",
    "cursor.execute(\"SELECT COUNT(*) AS total_vehicles FROM vehicle WHERE vehicle_type = 19\")\n",
    "total_vehicles_result = cursor.fetchone()[0]\n",
    "\n",
    "# Print the result\n",
    "print(\"Total number of vehicle_type=19 vehicles in the vehicle table:\", total_vehicles_result)"
   ]
  },
  {
   "cell_type": "markdown",
   "id": "2396b7b3-6365-4e88-a9e0-8bcfbb0f6a5e",
   "metadata": {},
   "source": []
  },
  {
   "cell_type": "markdown",
   "id": "9c093ec3-c615-4bea-a468-be5908ad3b4e",
   "metadata": {
    "tags": []
   },
   "source": [
    "### *III. Sex of driver, sex of casualty, speed limit, and age of vehicle for accidents in Kingston Upon Hull with pandas dataframe with total number of rows*"
   ]
  },
  {
   "cell_type": "code",
   "execution_count": 39,
   "id": "82879f16-a18c-4f62-98fe-9f567cadb2aa",
   "metadata": {},
   "outputs": [
    {
     "data": {
      "text/html": [
       "<div>\n",
       "<style scoped>\n",
       "    .dataframe tbody tr th:only-of-type {\n",
       "        vertical-align: middle;\n",
       "    }\n",
       "\n",
       "    .dataframe tbody tr th {\n",
       "        vertical-align: top;\n",
       "    }\n",
       "\n",
       "    .dataframe thead th {\n",
       "        text-align: right;\n",
       "    }\n",
       "</style>\n",
       "<table border=\"1\" class=\"dataframe\">\n",
       "  <thead>\n",
       "    <tr style=\"text-align: right;\">\n",
       "      <th></th>\n",
       "      <th>sex_of_driver</th>\n",
       "      <th>sex_of_casualty</th>\n",
       "      <th>speed_limit</th>\n",
       "      <th>age_of_vehicle</th>\n",
       "      <th>lsoa01cd</th>\n",
       "      <th>lsoa01nm</th>\n",
       "    </tr>\n",
       "  </thead>\n",
       "  <tbody>\n",
       "    <tr>\n",
       "      <th>0</th>\n",
       "      <td>1</td>\n",
       "      <td>1</td>\n",
       "      <td>30</td>\n",
       "      <td>-1</td>\n",
       "      <td>E01012756</td>\n",
       "      <td>Kingston upon Hull 025A</td>\n",
       "    </tr>\n",
       "    <tr>\n",
       "      <th>1</th>\n",
       "      <td>2</td>\n",
       "      <td>1</td>\n",
       "      <td>30</td>\n",
       "      <td>9</td>\n",
       "      <td>E01012756</td>\n",
       "      <td>Kingston upon Hull 025A</td>\n",
       "    </tr>\n",
       "    <tr>\n",
       "      <th>2</th>\n",
       "      <td>1</td>\n",
       "      <td>1</td>\n",
       "      <td>30</td>\n",
       "      <td>1</td>\n",
       "      <td>E01012756</td>\n",
       "      <td>Kingston upon Hull 025A</td>\n",
       "    </tr>\n",
       "    <tr>\n",
       "      <th>3</th>\n",
       "      <td>2</td>\n",
       "      <td>1</td>\n",
       "      <td>30</td>\n",
       "      <td>10</td>\n",
       "      <td>E01012756</td>\n",
       "      <td>Kingston upon Hull 025A</td>\n",
       "    </tr>\n",
       "    <tr>\n",
       "      <th>4</th>\n",
       "      <td>1</td>\n",
       "      <td>2</td>\n",
       "      <td>30</td>\n",
       "      <td>1</td>\n",
       "      <td>E01012756</td>\n",
       "      <td>Kingston upon Hull 025A</td>\n",
       "    </tr>\n",
       "  </tbody>\n",
       "</table>\n",
       "</div>"
      ],
      "text/plain": [
       "   sex_of_driver  sex_of_casualty  speed_limit  age_of_vehicle   lsoa01cd  \\\n",
       "0              1                1           30              -1  E01012756   \n",
       "1              2                1           30               9  E01012756   \n",
       "2              1                1           30               1  E01012756   \n",
       "3              2                1           30              10  E01012756   \n",
       "4              1                2           30               1  E01012756   \n",
       "\n",
       "                  lsoa01nm  \n",
       "0  Kingston upon Hull 025A  \n",
       "1  Kingston upon Hull 025A  \n",
       "2  Kingston upon Hull 025A  \n",
       "3  Kingston upon Hull 025A  \n",
       "4  Kingston upon Hull 025A  "
      ]
     },
     "execution_count": 39,
     "metadata": {},
     "output_type": "execute_result"
    }
   ],
   "source": [
    "# Execute the SQL command to retrieve the required data\n",
    "cursor.execute(\"\"\"\n",
    "    SELECT v.sex_of_driver, c.sex_of_casualty, a.speed_limit, v.age_of_vehicle, l.lsoa01cd, l.lsoa01nm\n",
    "    FROM accident a\n",
    "    JOIN casualty c ON a.accident_reference = c.accident_reference\n",
    "    JOIN vehicle v ON a.accident_reference = v.accident_reference\n",
    "    JOIN lsoa l ON a.lsoa_of_accident_location = l.lsoa01cd\n",
    "    WHERE l.lsoa01nm LIKE 'Kingston Upon Hull%'\n",
    "\"\"\")\n",
    "\n",
    "results = cursor.fetchall()\n",
    "\n",
    "# list of column names\n",
    "column_names = []\n",
    "# Iterate over each item in cursor.description\n",
    "for description in cursor.description:\n",
    "    # Extract the column name (first element) and append it to the column_names list\n",
    "    column_names.append(description[0])\n",
    "\n",
    "# Convert the results to a Pandas DataFrame\n",
    "df = pd.DataFrame(results, columns=column_names)\n",
    "\n",
    "# Print the DataFrame\n",
    "df.head()\n"
   ]
  },
  {
   "cell_type": "code",
   "execution_count": 40,
   "id": "7b81f7bc-9221-4fcc-af7e-214e2533c2cc",
   "metadata": {},
   "outputs": [
    {
     "name": "stdout",
     "output_type": "stream",
     "text": [
      "\n",
      "Total Number of Rows: 6387\n"
     ]
    }
   ],
   "source": [
    "# total number of rows\n",
    "total_rows = len(df)\n",
    "# Print the total number of rows\n",
    "print(\"\\nTotal Number of Rows:\", total_rows)"
   ]
  },
  {
   "cell_type": "code",
   "execution_count": null,
   "id": "58fefbdc-ed7c-449b-b495-6ac1128c541f",
   "metadata": {},
   "outputs": [],
   "source": []
  }
 ],
 "metadata": {
  "kernelspec": {
   "display_name": "env",
   "language": "python",
   "name": "env"
  },
  "language_info": {
   "codemirror_mode": {
    "name": "ipython",
    "version": 3
   },
   "file_extension": ".py",
   "mimetype": "text/x-python",
   "name": "python",
   "nbconvert_exporter": "python",
   "pygments_lexer": "ipython3",
   "version": "3.10.4"
  }
 },
 "nbformat": 4,
 "nbformat_minor": 5
}
